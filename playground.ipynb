{
 "metadata": {
  "language_info": {
   "codemirror_mode": {
    "name": "ipython",
    "version": 3
   },
   "file_extension": ".py",
   "mimetype": "text/x-python",
   "name": "python",
   "nbconvert_exporter": "python",
   "pygments_lexer": "ipython3",
   "version": 3
  },
  "orig_nbformat": 2,
  "kernelspec": {
   "name": "python_defaultSpec_1595754705528",
   "display_name": "Python 3.8.5 64-bit ('stat-env': venv)"
  }
 },
 "nbformat": 4,
 "nbformat_minor": 2,
 "cells": [
  {
   "cell_type": "code",
   "execution_count": 4,
   "metadata": {},
   "outputs": [],
   "source": [
    "import pandas as pd\n",
    "import jupyter"
   ]
  },
  {
   "cell_type": "code",
   "execution_count": 7,
   "metadata": {
    "tags": []
   },
   "outputs": [
    {
     "output_type": "stream",
     "name": "stdout",
     "text": "Url\n0                   www.hollandandbarrett.com\n1                    www.hollandandbarrett.ie\n2                       www.musicmagpie.co.uk\n3                               www.gnc.co.uk\n4                www.bluediamondalmonds.co.uk\n5                           www.magnet.co.uk/\n6                    www.morphyrichards.co.uk\n7                    musicmagpie.co.uk/store/\n8                            www.decluttr.com\n9                            www.metrx.co.uk/\n10                         www.vets4pets.com/\n11                   www.companioncare.co.uk/\n12               www.witt-international.co.uk\n13                    www.kaleidoscope.co.uk/\n14                         www.curvissa.co.uk\n15                        www.thetoyshop.com/\n16              myhomemoveconveyancing.co.uk/\n17                        www.petsathome.com/\n18                 www.decluttr.com/us/store/\n19                     www.barratthomes.co.uk\n20                     www.barratthomes.co.uk\n21                              www.dwh.co.uk\n22                              www.carat.com\n23                         www.smythstoys.com\n24                     www.nwspecialists.com/\n25                          www.betvictor.com\n26                          www.betvictor.com\n27                         novotel.accor.com/\n28                 www.postcodelottery.co.uk/\n29                 www.postcodelottery.co.uk/\n30                           www.argos.co.uk/\n31             www.northgatevehiclehire.co.uk\n32                         www.vanmonster.com\n33  petsathome.com/shop/en/pets/pet-insurance\n34                        www.thetoyshop.com/\n35                         www.jurysinns.com/\n36                         www.brother.co.uk/\n37                          www.bonprix.co.uk\n"
    }
   ],
   "source": [
    "df = pd.read_csv(r'L:\\Commercial\\Operations\\Technical SEO\\Automation\\Data\\STAT\\Requests\\2018_07_bulk_ranks_all.csv')\n",
    "print(df)"
   ]
  },
  {
   "cell_type": "code",
   "execution_count": null,
   "metadata": {},
   "outputs": [],
   "source": []
  }
 ]
}